{
 "cells": [
  {
   "cell_type": "code",
   "execution_count": 2,
   "metadata": {},
   "outputs": [],
   "source": [
    "%matplotlib inline\n",
    "import matplotlib.pyplot as plt\n",
    "import tensorflow as tf\n",
    "import pandas as pd\n",
    "import numpy as np\n",
    "from tensorflow.keras.models import Model\n",
    "from tensorflow.keras.layers import Dense, Input\n",
    "from tensorflow.keras.utils import to_categorical"
   ]
  },
  {
   "cell_type": "markdown",
   "metadata": {},
   "source": [
    "## Load and transform data"
   ]
  },
  {
   "cell_type": "code",
   "execution_count": 34,
   "metadata": {},
   "outputs": [],
   "source": [
    "train_df = pd.read_csv(\"data/downsampled/train.csv\")\n",
    "test_df = pd.read_csv(\"data/downsampled/test.csv\")\n",
    "n_cols = len(train_df.columns)\n",
    "x_train = train_df.iloc[:,0:n_cols-1].values\n",
    "y_train = train_df.iloc[:, n_cols-1:].values\n",
    "y_train = np.squeeze(y_train)\n",
    "x_test = test_df.iloc[:,0:n_cols-1].values\n",
    "y_test = test_df.iloc[:, n_cols-1:].values\n",
    "y_test = np.squeeze(y_test)\n",
    "\n",
    "y_train = to_categorical(y_train, 3)\n",
    "y_test = to_categorical(y_test, 3)"
   ]
  },
  {
   "cell_type": "markdown",
   "metadata": {},
   "source": [
    "## Construct and train network"
   ]
  },
  {
   "cell_type": "code",
   "execution_count": 20,
   "metadata": {},
   "outputs": [],
   "source": [
    "n_feat = x_train.shape[1]\n",
    "\n",
    "inputs = Input(shape=(n_feat,))\n",
    "x = Dense(64, activation=\"relu\")(inputs)\n",
    "x = Dense(32, activation=\"relu\")(x)\n",
    "predictions = Dense(3, activation=\"softmax\")(x)\n",
    "\n",
    "model = Model(inputs=inputs, outputs=predictions)\n",
    "model.compile(optimizer='adam',\n",
    "              loss='categorical_crossentropy',\n",
    "              metrics=['accuracy'])"
   ]
  },
  {
   "cell_type": "markdown",
   "metadata": {},
   "source": [
    "Fit the training data."
   ]
  },
  {
   "cell_type": "code",
   "execution_count": 28,
   "metadata": {},
   "outputs": [
    {
     "name": "stdout",
     "output_type": "stream",
     "text": [
      "Train on 15138 samples, validate on 1683 samples\n",
      "Epoch 1/5\n",
      "15138/15138 [==============================] - 0s 9us/step - loss: 0.6960 - acc: 0.6785 - val_loss: 0.7139 - val_acc: 0.6566\n",
      "Epoch 2/5\n",
      "15138/15138 [==============================] - 0s 9us/step - loss: 0.6945 - acc: 0.6774 - val_loss: 0.7145 - val_acc: 0.6619\n",
      "Epoch 3/5\n",
      "15138/15138 [==============================] - 0s 9us/step - loss: 0.6923 - acc: 0.6795 - val_loss: 0.7217 - val_acc: 0.6578\n",
      "Epoch 4/5\n",
      "15138/15138 [==============================] - 0s 9us/step - loss: 0.6916 - acc: 0.6805 - val_loss: 0.7164 - val_acc: 0.6530\n",
      "Epoch 5/5\n",
      "15138/15138 [==============================] - 0s 8us/step - loss: 0.6910 - acc: 0.6803 - val_loss: 0.7130 - val_acc: 0.6566\n"
     ]
    }
   ],
   "source": [
    "batch_size = 128\n",
    "epochs = 5\n",
    "\n",
    "history = model.fit(x_train, y_train, batch_size=batch_size, epochs=epochs, verbose=1, validation_split=0.1, shuffle=True);"
   ]
  },
  {
   "cell_type": "markdown",
   "metadata": {},
   "source": [
    "## Plotting"
   ]
  },
  {
   "cell_type": "code",
   "execution_count": 24,
   "metadata": {},
   "outputs": [
    {
     "data": {
      "image/png": "[encoded data removed]",
      "text/plain": [
       "<Figure size 720x432 with 1 Axes>"
      ]
     },
     "metadata": {},
     "output_type": "display_data"
    }
   ],
   "source": [
    "plt.figure(figsize=(10,6))\n",
    "plt.plot(history.history[\"acc\"])\n",
    "plt.plot(history.history[\"val_acc\"])\n",
    "plt.title('Model Accuracy')\n",
    "plt.ylabel('accuracy')\n",
    "plt.xlabel('epoch')\n",
    "plt.legend(['train', 'validation'], loc='upper left');\n"
   ]
  },
  {
   "cell_type": "markdown",
   "metadata": {},
   "source": [
    "## Test Data"
   ]
  },
  {
   "cell_type": "code",
   "execution_count": 38,
   "metadata": {},
   "outputs": [
    {
     "name": "stdout",
     "output_type": "stream",
     "text": [
      "Test loss: 0.7255478915964487\n",
      "Test accuracy: 0.6590373144928303\n"
     ]
    }
   ],
   "source": [
    "score = model.evaluate(x_test, y_test, verbose=0)\n",
    "print('Test loss:', score[0])\n",
    "print('Test accuracy:', score[1])"
   ]
  }
 ],
 "metadata": {
  "kernelspec": {
   "display_name": "Python 3",
   "language": "python",
   "name": "python3"
  },
  "language_info": {
   "codemirror_mode": {
    "name": "ipython",
    "version": 3
   },
   "file_extension": ".py",
   "mimetype": "text/x-python",
   "name": "python",
   "nbconvert_exporter": "python",
   "pygments_lexer": "ipython3",
   "version": "3.6.5"
  }
 },
 "nbformat": 4,
 "nbformat_minor": 2
}
